{
 "cells": [
  {
   "cell_type": "code",
   "execution_count": 1,
   "id": "377f3a4e",
   "metadata": {},
   "outputs": [],
   "source": [
    "def simple():\n",
    "    print(\"My First Function\")"
   ]
  },
  {
   "cell_type": "code",
   "execution_count": 2,
   "id": "28d13838",
   "metadata": {},
   "outputs": [
    {
     "name": "stdout",
     "output_type": "stream",
     "text": [
      "My First Function\n"
     ]
    }
   ],
   "source": [
    "simple()"
   ]
  },
  {
   "cell_type": "code",
   "execution_count": 3,
   "id": "4c01d2fd",
   "metadata": {},
   "outputs": [],
   "source": [
    "def plus_10(a):\n",
    "    return a+10"
   ]
  },
  {
   "cell_type": "code",
   "execution_count": 4,
   "id": "e0b5c6e9",
   "metadata": {},
   "outputs": [
    {
     "data": {
      "text/plain": [
       "15"
      ]
     },
     "execution_count": 4,
     "metadata": {},
     "output_type": "execute_result"
    }
   ],
   "source": [
    "plus_10(5)"
   ]
  },
  {
   "cell_type": "code",
   "execution_count": 6,
   "id": "265be7e4",
   "metadata": {},
   "outputs": [],
   "source": [
    "def plus_10(a):\n",
    "    result=a+10\n",
    "    return result"
   ]
  },
  {
   "cell_type": "code",
   "execution_count": 7,
   "id": "bdbdaeef",
   "metadata": {},
   "outputs": [
    {
     "data": {
      "text/plain": [
       "15"
      ]
     },
     "execution_count": 7,
     "metadata": {},
     "output_type": "execute_result"
    }
   ],
   "source": [
    "plus_10(5)"
   ]
  }
 ],
 "metadata": {
  "kernelspec": {
   "display_name": "Python 3 (ipykernel)",
   "language": "python",
   "name": "python3"
  },
  "language_info": {
   "codemirror_mode": {
    "name": "ipython",
    "version": 3
   },
   "file_extension": ".py",
   "mimetype": "text/x-python",
   "name": "python",
   "nbconvert_exporter": "python",
   "pygments_lexer": "ipython3",
   "version": "3.11.3"
  }
 },
 "nbformat": 4,
 "nbformat_minor": 5
}
