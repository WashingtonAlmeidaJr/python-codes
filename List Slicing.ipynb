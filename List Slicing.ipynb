{
 "cells": [
  {
   "cell_type": "code",
   "execution_count": 15,
   "id": "35cc3bc1",
   "metadata": {},
   "outputs": [
    {
     "data": {
      "text/plain": [
       "['John', 'Leila', 'Cate', 'George']"
      ]
     },
     "execution_count": 15,
     "metadata": {},
     "output_type": "execute_result"
    }
   ],
   "source": [
    "Participants=['John','Leila','Cate','George']\n",
    "Participants"
   ]
  },
  {
   "cell_type": "code",
   "execution_count": 16,
   "id": "213a22f4",
   "metadata": {},
   "outputs": [
    {
     "name": "stdout",
     "output_type": "stream",
     "text": [
      "Cate\n"
     ]
    }
   ],
   "source": [
    "print(Participants[2])"
   ]
  },
  {
   "cell_type": "code",
   "execution_count": 17,
   "id": "1524dd6f",
   "metadata": {},
   "outputs": [
    {
     "data": {
      "text/plain": [
       "'George'"
      ]
     },
     "execution_count": 17,
     "metadata": {},
     "output_type": "execute_result"
    }
   ],
   "source": [
    "#contar da direita pra esquerda\n",
    "Participants[-1]"
   ]
  },
  {
   "cell_type": "code",
   "execution_count": 18,
   "id": "5febf322",
   "metadata": {},
   "outputs": [
    {
     "data": {
      "text/plain": [
       "['John', 'Leila', 'Cate', 'Jorguinho']"
      ]
     },
     "execution_count": 18,
     "metadata": {},
     "output_type": "execute_result"
    }
   ],
   "source": [
    "#substituir o ultimo por \"Jorginho\"\n",
    "Participants[-1]='Jorguinho'\n",
    "Participants"
   ]
  },
  {
   "cell_type": "code",
   "execution_count": 19,
   "id": "ecc8c483",
   "metadata": {},
   "outputs": [
    {
     "data": {
      "text/plain": [
       "['John', 'Leila', 'Jorguinho']"
      ]
     },
     "execution_count": 19,
     "metadata": {},
     "output_type": "execute_result"
    }
   ],
   "source": [
    "# deletar elementos\n",
    "del Participants[2]\n",
    "Participants"
   ]
  },
  {
   "cell_type": "code",
   "execution_count": 20,
   "id": "2899484d",
   "metadata": {},
   "outputs": [
    {
     "data": {
      "text/plain": [
       "['John', 'Leila', 'Jorguinho', 'Dwayne']"
      ]
     },
     "execution_count": 20,
     "metadata": {},
     "output_type": "execute_result"
    }
   ],
   "source": [
    "#adicionar um elemento\n",
    "Participants.append(\"Dwayne\")\n",
    "Participants"
   ]
  },
  {
   "cell_type": "code",
   "execution_count": 21,
   "id": "83447dcb",
   "metadata": {},
   "outputs": [
    {
     "data": {
      "text/plain": [
       "['John', 'Leila', 'Jorguinho', 'Dwayne', 'Pedro', 'Augusto']"
      ]
     },
     "execution_count": 21,
     "metadata": {},
     "output_type": "execute_result"
    }
   ],
   "source": [
    "#adicionar uma listaq em outra\n",
    "\n",
    "Participants.extend(['Pedro','Augusto'])\n",
    "Participants"
   ]
  },
  {
   "cell_type": "code",
   "execution_count": 22,
   "id": "046f9016",
   "metadata": {
    "scrolled": true
   },
   "outputs": [
    {
     "name": "stdout",
     "output_type": "stream",
     "text": [
      "The first participant is John\n"
     ]
    }
   ],
   "source": [
    "print('The first participant is ' + Participants[0])"
   ]
  },
  {
   "cell_type": "code",
   "execution_count": 23,
   "id": "1799695f",
   "metadata": {},
   "outputs": [
    {
     "data": {
      "text/plain": [
       "6"
      ]
     },
     "execution_count": 23,
     "metadata": {},
     "output_type": "execute_result"
    }
   ],
   "source": [
    "#Quantos elementos tem na lista?\n",
    "len(Participants)"
   ]
  },
  {
   "cell_type": "code",
   "execution_count": 24,
   "id": "874d9807",
   "metadata": {},
   "outputs": [
    {
     "data": {
      "text/plain": [
       "['Leila', 'Jorguinho']"
      ]
     },
     "execution_count": 24,
     "metadata": {},
     "output_type": "execute_result"
    }
   ],
   "source": [
    "#intervalo que queremos na lista\n",
    "Participants[1:3]"
   ]
  }
 ],
 "metadata": {
  "kernelspec": {
   "display_name": "Python 3 (ipykernel)",
   "language": "python",
   "name": "python3"
  },
  "language_info": {
   "codemirror_mode": {
    "name": "ipython",
    "version": 3
   },
   "file_extension": ".py",
   "mimetype": "text/x-python",
   "name": "python",
   "nbconvert_exporter": "python",
   "pygments_lexer": "ipython3",
   "version": "3.11.3"
  }
 },
 "nbformat": 4,
 "nbformat_minor": 5
}
