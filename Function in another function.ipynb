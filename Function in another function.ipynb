{
 "cells": [
  {
   "cell_type": "code",
   "execution_count": 2,
   "id": "78db96de",
   "metadata": {},
   "outputs": [],
   "source": [
    "def wage(w_hours):\n",
    "    return w_hours*25\n",
    "\n",
    "def with_bonus(w_hours):\n",
    "    return wage(w_hours)+50"
   ]
  },
  {
   "cell_type": "code",
   "execution_count": 3,
   "id": "7a3064e4",
   "metadata": {},
   "outputs": [
    {
     "data": {
      "text/plain": [
       "(200, 250)"
      ]
     },
     "execution_count": 3,
     "metadata": {},
     "output_type": "execute_result"
    }
   ],
   "source": [
    "wage(8),with_bonus(8)"
   ]
  },
  {
   "cell_type": "code",
   "execution_count": 24,
   "id": "45f7861c",
   "metadata": {},
   "outputs": [],
   "source": [
    "def plus_five(x):\n",
    "    return x+5\n",
    "\n",
    "def m_by_3(x):\n",
    "    return plus_five(x)*3"
   ]
  },
  {
   "cell_type": "code",
   "execution_count": 26,
   "id": "0e032464",
   "metadata": {},
   "outputs": [
    {
     "data": {
      "text/plain": [
       "(8, 24)"
      ]
     },
     "execution_count": 26,
     "metadata": {},
     "output_type": "execute_result"
    }
   ],
   "source": [
    "plus_five(3),m_by_3(3)"
   ]
  }
 ],
 "metadata": {
  "kernelspec": {
   "display_name": "Python 3 (ipykernel)",
   "language": "python",
   "name": "python3"
  },
  "language_info": {
   "codemirror_mode": {
    "name": "ipython",
    "version": 3
   },
   "file_extension": ".py",
   "mimetype": "text/x-python",
   "name": "python",
   "nbconvert_exporter": "python",
   "pygments_lexer": "ipython3",
   "version": "3.11.3"
  }
 },
 "nbformat": 4,
 "nbformat_minor": 5
}
